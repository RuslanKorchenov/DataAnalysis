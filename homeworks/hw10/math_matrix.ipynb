{
 "cells": [
  {
   "cell_type": "markdown",
   "metadata": {
    "colab_type": "text",
    "id": "VAmOu--LIILw"
   },
   "source": [
    "## Практическое задание"
   ]
  },
  {
   "cell_type": "code",
   "execution_count": 1,
   "metadata": {},
   "outputs": [],
   "source": [
    "import numpy as np"
   ]
  },
  {
   "cell_type": "markdown",
   "metadata": {},
   "source": [
    "Все задания рекомендуется делать вручную, затем проверяя полученные результаты с использованием numpy.\n",
    "\n",
    "__1.__ Установить, какие произведения матриц $AB$ и $BA$ определены, и найти размерности полученных матриц:\n",
    "\n",
    "   а) $A$ — матрица $4\\times 2$, $B$ — матрица $4\\times 2$; $AB$ и $BA$ - неопределены (недопустимая операция)\n",
    "   \n",
    "   \n",
    "    \n",
    "   б) $A$ — матрица $2\\times 5$, $B$ — матрица $5\\times 3$; $AB$ - неопределена; $BA$ - $2\\times 3$\n",
    "    \n",
    "   в) $A$ — матрица $8\\times 3$, $B$ — матрица $3\\times 8$; $AB$ - $3\\times 3$; $BA$ - $8\\times 8$\n",
    "    \n",
    "   г) $A$ — квадратная матрица $4\\times 4$, $B$ — квадратная матрица $4\\times 4$. $AB$ - $4\\times 4$; $BA$ - $4\\times 4$"
   ]
  },
  {
   "cell_type": "markdown",
   "metadata": {},
   "source": [
    "   а) $A$ — матрица $4\\times 2$, $B$ — матрица $4\\times 2$; $AB$ и $BA$ - неопределены (недопустимая операция)"
   ]
  },
  {
   "cell_type": "code",
   "execution_count": 8,
   "metadata": {},
   "outputs": [
    {
     "ename": "ValueError",
     "evalue": "shapes (4,2) and (4,2) not aligned: 2 (dim 1) != 4 (dim 0)",
     "output_type": "error",
     "traceback": [
      "\u001b[1;31m---------------------------------------------------------------------------\u001b[0m",
      "\u001b[1;31mValueError\u001b[0m                                Traceback (most recent call last)",
      "\u001b[1;32m<ipython-input-8-23d31361391b>\u001b[0m in \u001b[0;36m<module>\u001b[1;34m\u001b[0m\n\u001b[0;32m      1\u001b[0m \u001b[0mA\u001b[0m \u001b[1;33m=\u001b[0m \u001b[0mnp\u001b[0m\u001b[1;33m.\u001b[0m\u001b[0marray\u001b[0m\u001b[1;33m(\u001b[0m\u001b[1;33m[\u001b[0m\u001b[1;33m[\u001b[0m\u001b[1;36m1\u001b[0m\u001b[1;33m,\u001b[0m \u001b[1;36m2\u001b[0m\u001b[1;33m]\u001b[0m\u001b[1;33m,\u001b[0m \u001b[1;33m[\u001b[0m\u001b[1;36m3\u001b[0m\u001b[1;33m,\u001b[0m \u001b[1;36m4\u001b[0m\u001b[1;33m]\u001b[0m\u001b[1;33m,\u001b[0m\u001b[1;33m[\u001b[0m\u001b[1;36m5\u001b[0m\u001b[1;33m,\u001b[0m \u001b[1;36m6\u001b[0m\u001b[1;33m]\u001b[0m\u001b[1;33m,\u001b[0m \u001b[1;33m[\u001b[0m\u001b[1;36m7\u001b[0m\u001b[1;33m,\u001b[0m \u001b[1;36m8\u001b[0m\u001b[1;33m]\u001b[0m\u001b[1;33m]\u001b[0m\u001b[1;33m)\u001b[0m\u001b[1;33m\u001b[0m\u001b[1;33m\u001b[0m\u001b[0m\n\u001b[0;32m      2\u001b[0m \u001b[0mB\u001b[0m \u001b[1;33m=\u001b[0m \u001b[0mnp\u001b[0m\u001b[1;33m.\u001b[0m\u001b[0marray\u001b[0m\u001b[1;33m(\u001b[0m\u001b[1;33m[\u001b[0m\u001b[1;33m[\u001b[0m\u001b[1;33m-\u001b[0m\u001b[1;36m1\u001b[0m\u001b[1;33m,\u001b[0m \u001b[1;33m-\u001b[0m\u001b[1;36m2\u001b[0m\u001b[1;33m]\u001b[0m\u001b[1;33m,\u001b[0m \u001b[1;33m[\u001b[0m\u001b[1;33m-\u001b[0m\u001b[1;36m3\u001b[0m\u001b[1;33m,\u001b[0m \u001b[1;33m-\u001b[0m\u001b[1;36m4\u001b[0m\u001b[1;33m]\u001b[0m\u001b[1;33m,\u001b[0m \u001b[1;33m[\u001b[0m\u001b[1;33m-\u001b[0m\u001b[1;36m5\u001b[0m \u001b[1;33m,\u001b[0m\u001b[1;33m-\u001b[0m\u001b[1;36m6\u001b[0m\u001b[1;33m]\u001b[0m\u001b[1;33m,\u001b[0m \u001b[1;33m[\u001b[0m\u001b[1;33m-\u001b[0m\u001b[1;36m7\u001b[0m\u001b[1;33m,\u001b[0m \u001b[1;33m-\u001b[0m\u001b[1;36m8\u001b[0m\u001b[1;33m]\u001b[0m\u001b[1;33m]\u001b[0m\u001b[1;33m)\u001b[0m\u001b[1;33m\u001b[0m\u001b[1;33m\u001b[0m\u001b[0m\n\u001b[1;32m----> 3\u001b[1;33m \u001b[0mprint\u001b[0m\u001b[1;33m(\u001b[0m\u001b[1;34mf'AB\\n{np.dot(A, B)}'\u001b[0m\u001b[1;33m)\u001b[0m\u001b[1;33m\u001b[0m\u001b[1;33m\u001b[0m\u001b[0m\n\u001b[0m",
      "\u001b[1;31mValueError\u001b[0m: shapes (4,2) and (4,2) not aligned: 2 (dim 1) != 4 (dim 0)"
     ]
    }
   ],
   "source": [
    "A = np.array([[1, 2], [3, 4],[5, 6], [7, 8]])\n",
    "B = np.array([[-1, -2], [-3, -4], [-5 ,-6], [-7, -8]])\n",
    "print(f'AB\\n{np.dot(A, B)}')"
   ]
  },
  {
   "cell_type": "code",
   "execution_count": 9,
   "metadata": {},
   "outputs": [
    {
     "ename": "ValueError",
     "evalue": "shapes (4,2) and (4,2) not aligned: 2 (dim 1) != 4 (dim 0)",
     "output_type": "error",
     "traceback": [
      "\u001b[1;31m---------------------------------------------------------------------------\u001b[0m",
      "\u001b[1;31mValueError\u001b[0m                                Traceback (most recent call last)",
      "\u001b[1;32m<ipython-input-9-d9820bd4f5ca>\u001b[0m in \u001b[0;36m<module>\u001b[1;34m\u001b[0m\n\u001b[1;32m----> 1\u001b[1;33m \u001b[0mprint\u001b[0m\u001b[1;33m(\u001b[0m\u001b[1;34mf'AB\\n{np.dot(B, A)}'\u001b[0m\u001b[1;33m)\u001b[0m\u001b[1;33m\u001b[0m\u001b[1;33m\u001b[0m\u001b[0m\n\u001b[0m",
      "\u001b[1;31mValueError\u001b[0m: shapes (4,2) and (4,2) not aligned: 2 (dim 1) != 4 (dim 0)"
     ]
    }
   ],
   "source": [
    "print(f'AB\\n{np.dot(B, A)}')"
   ]
  },
  {
   "cell_type": "markdown",
   "metadata": {},
   "source": [
    " б) $A$ — матрица $2\\times 5$, $B$ — матрица $5\\times 3$; $AB$ - неопределена; $BA$ - $2\\times 3$"
   ]
  },
  {
   "cell_type": "code",
   "execution_count": 11,
   "metadata": {},
   "outputs": [
    {
     "name": "stdout",
     "output_type": "stream",
     "text": [
      "AB\n",
      "[[ 83  92 101]\n",
      " [152 173 194]]\n"
     ]
    }
   ],
   "source": [
    "A = np.array([[1, 1, 2, 2, 3], [4, 4, 5, 5, 3]])\n",
    "B = np.array([[1, 2, 3], [4, 5, 6],  [7, 8, 9], [11, 12, 13], [14, 15, 16]])\n",
    "\n",
    "print(f'AB\\n{np.dot(A, B)}')"
   ]
  },
  {
   "cell_type": "code",
   "execution_count": 12,
   "metadata": {},
   "outputs": [
    {
     "ename": "ValueError",
     "evalue": "shapes (5,3) and (2,5) not aligned: 3 (dim 1) != 2 (dim 0)",
     "output_type": "error",
     "traceback": [
      "\u001b[1;31m---------------------------------------------------------------------------\u001b[0m",
      "\u001b[1;31mValueError\u001b[0m                                Traceback (most recent call last)",
      "\u001b[1;32m<ipython-input-12-a398777f23f2>\u001b[0m in \u001b[0;36m<module>\u001b[1;34m\u001b[0m\n\u001b[1;32m----> 1\u001b[1;33m \u001b[0mprint\u001b[0m\u001b[1;33m(\u001b[0m\u001b[1;34mf'BA\\n{np.dot(B, A)}'\u001b[0m\u001b[1;33m)\u001b[0m\u001b[1;33m\u001b[0m\u001b[1;33m\u001b[0m\u001b[0m\n\u001b[0m",
      "\u001b[1;31mValueError\u001b[0m: shapes (5,3) and (2,5) not aligned: 3 (dim 1) != 2 (dim 0)"
     ]
    }
   ],
   "source": [
    "print(f'BA\\n{np.dot(B, A)}')"
   ]
  },
  {
   "cell_type": "markdown",
   "metadata": {},
   "source": [
    "   в) $A$ — матрица $8\\times 3$, $B$ — матрица $3\\times 8$; $AB$ - $3\\times 3$; $BA$ - $8\\times 8$"
   ]
  },
  {
   "cell_type": "code",
   "execution_count": 14,
   "metadata": {},
   "outputs": [
    {
     "name": "stdout",
     "output_type": "stream",
     "text": [
      "AB\n",
      "[[   9   43   67    4   48   44   68   -5]\n",
      " [  15   19   43   88   88   72  102   87]\n",
      " [  10   64   73    5   82   97   68  -54]\n",
      " [  10   64   73    5   82   97   68  -54]\n",
      " [   1   -6   -3   13    2   -3    7   22]\n",
      " [   4  -23   -5   44    0  -24   31   91]\n",
      " [  13   24   45   67   78   67   89   60]\n",
      " [  -1  -97 -133  148   16    4  -30  163]]\n"
     ]
    }
   ],
   "source": [
    "A = np.array([[3, 4, 2], [11, 0, 4], [5 ,7, -2], [5, 7, -2], [1 ,-1, 1], [3 ,-4, 5], [9 ,1, 3], [11,-12, 0]])\n",
    "B = np.array([[1, 1, 1, 8, 8, 8, 6, 5], [1, 9, 12, -5, 6, 7, 8, -9], [1, 2, 8, 0, 0, -4, 9, 8]])\n",
    "print(f'AB\\n{np.dot(A, B)}')"
   ]
  },
  {
   "cell_type": "code",
   "execution_count": 15,
   "metadata": {},
   "outputs": [
    {
     "name": "stdout",
     "output_type": "stream",
     "text": [
      "AB\n",
      "[[200 -27  54]\n",
      " [137 135  89]\n",
      " [222 -11   1]]\n"
     ]
    }
   ],
   "source": [
    "print(f'AB\\n{np.dot(B, A)}')"
   ]
  },
  {
   "cell_type": "markdown",
   "metadata": {},
   "source": [
    "   г) $A$ — квадратная матрица $4\\times 4$, $B$ — квадратная матрица $4\\times 4$. $AB$ - $4\\times 4$; $BA$ - $4\\times 4$"
   ]
  },
  {
   "cell_type": "code",
   "execution_count": 16,
   "metadata": {},
   "outputs": [
    {
     "name": "stdout",
     "output_type": "stream",
     "text": [
      "AB\n",
      "[[ 11 -17 -10 -21]\n",
      " [ 44  12  25  21]\n",
      " [150  14  77  39]\n",
      " [ 44 -20  -1 -21]]\n"
     ]
    }
   ],
   "source": [
    "A = np.array([[1, 2, 3, 4], [4, 3, 2, 1], [0, 11, 12, 3], [4, 5, 6, 7]])\n",
    "B = np.array([[2, 3, 2, 3], [12, 1, 7, 6], [3, 2, 2, 0], [-6, -7, -8, -9]])\n",
    "print(f'AB\\n{np.dot(A, B)}')"
   ]
  },
  {
   "cell_type": "code",
   "execution_count": 17,
   "metadata": {},
   "outputs": [
    {
     "name": "stdout",
     "output_type": "stream",
     "text": [
      "AB\n",
      "[[  26   50   54   38]\n",
      " [  40  134  158  112]\n",
      " [  11   34   37   20]\n",
      " [ -70 -166 -182 -118]]\n"
     ]
    }
   ],
   "source": [
    "print(f'AB\\n{np.dot(B, A)}')"
   ]
  },
  {
   "cell_type": "markdown",
   "metadata": {
    "colab_type": "text",
    "id": "APeDlmh8IIL1"
   },
   "source": [
    "__2.__ Найти сумму и произведение матриц $A=\\begin{pmatrix}\n",
    "1 & -2\\\\ \n",
    "3 & 0\n",
    "\\end{pmatrix}$ и $B=\\begin{pmatrix}\n",
    "4 & -1\\\\ \n",
    "0 & 5\n",
    "\\end{pmatrix}.$ "
   ]
  },
  {
   "cell_type": "code",
   "execution_count": 18,
   "metadata": {},
   "outputs": [],
   "source": [
    "A = np.array([[1, -2], [3, 0]])\n",
    "B = np.array([[4, -1], [0, 5]])"
   ]
  },
  {
   "cell_type": "markdown",
   "metadata": {},
   "source": [
    "Сумма"
   ]
  },
  {
   "cell_type": "code",
   "execution_count": 20,
   "metadata": {},
   "outputs": [
    {
     "name": "stdout",
     "output_type": "stream",
     "text": [
      "[[ 5 -3]\n",
      " [ 3  5]]\n"
     ]
    }
   ],
   "source": [
    "print(A + B)"
   ]
  },
  {
   "cell_type": "markdown",
   "metadata": {},
   "source": [
    "Произведение"
   ]
  },
  {
   "cell_type": "code",
   "execution_count": 19,
   "metadata": {},
   "outputs": [
    {
     "name": "stdout",
     "output_type": "stream",
     "text": [
      "AB\n",
      "[[  4 -11]\n",
      " [ 12  -3]]\n"
     ]
    }
   ],
   "source": [
    "print(f'AB\\n{np.dot(A, B)}')"
   ]
  },
  {
   "cell_type": "markdown",
   "metadata": {},
   "source": [
    "__3.__ Из закономерностей сложения и умножения матриц на число можно сделать вывод, что матрицы одного размера образуют линейное пространство. Вычислить линейную комбинацию $3A-2B+4C$ для матриц $A=\\begin{pmatrix}\n",
    "1 & 7\\\\ \n",
    "3 & -6\n",
    "\\end{pmatrix}$, $B=\\begin{pmatrix}\n",
    "0 & 5\\\\ \n",
    "2 & -1\n",
    "\\end{pmatrix}$, $C=\\begin{pmatrix}\n",
    "2 & -4\\\\ \n",
    "1 & 1\n",
    "\\end{pmatrix}.$"
   ]
  },
  {
   "cell_type": "code",
   "execution_count": 32,
   "metadata": {},
   "outputs": [
    {
     "name": "stdout",
     "output_type": "stream",
     "text": [
      "Линейная комбинация  3𝐴 − 2𝐵 + 4𝐶 = \n",
      "[[ 11  -5]\n",
      " [  9 -12]]\n"
     ]
    }
   ],
   "source": [
    "A = np.array([[1, 7], [3, -6]])\n",
    "B = np.array([[0, 5], [2 ,-1]])\n",
    "C = np.array([[2 ,-4],[1, 1]])\n",
    "\n",
    "print(f\"Линейная комбинация  3𝐴 − 2𝐵 + 4𝐶 = \\n{A*3+(-2)*B+4*C}\")"
   ]
  },
  {
   "cell_type": "markdown",
   "metadata": {},
   "source": [
    "__4.__ Дана матрица $A=\\begin{pmatrix}\n",
    "4 & 1\\\\ \n",
    "5 & -2\\\\ \n",
    "2 & 3\n",
    "\\end{pmatrix}$.\n",
    "Вычислить $AA^{T}$ и $A^{T}A$."
   ]
  },
  {
   "cell_type": "code",
   "execution_count": 34,
   "metadata": {},
   "outputs": [
    {
     "name": "stdout",
     "output_type": "stream",
     "text": [
      "[[17 18 11]\n",
      " [18 29  4]\n",
      " [11  4 13]]\n"
     ]
    }
   ],
   "source": [
    "A = np.array([[4, 1], [5, -2], [2, 3]])\n",
    "At = A.T\n",
    "print(np.dot(A, At))"
   ]
  },
  {
   "cell_type": "code",
   "execution_count": 36,
   "metadata": {},
   "outputs": [
    {
     "name": "stdout",
     "output_type": "stream",
     "text": [
      "[[45  0]\n",
      " [ 0 14]]\n"
     ]
    }
   ],
   "source": [
    "print(np.dot(At, A))"
   ]
  },
  {
   "cell_type": "markdown",
   "metadata": {},
   "source": [
    "\n",
    "__5.__ Вычислить определитель:\n",
    "\n",
    "   a)\n",
    "\n",
    "$$\\begin{vmatrix}\n",
    "sinx & -cosx\\\\ \n",
    "cosx & sinx\n",
    "\\end{vmatrix};$$"
   ]
  },
  {
   "cell_type": "code",
   "execution_count": 38,
   "metadata": {},
   "outputs": [
    {
     "name": "stdout",
     "output_type": "stream",
     "text": [
      "1.0\n"
     ]
    }
   ],
   "source": [
    "A = np.array([[np.sin(1), -(np.cos(1))], [np.cos(1), np.sin(1)]])\n",
    "print(np.linalg.det(A))"
   ]
  },
  {
   "cell_type": "markdown",
   "metadata": {},
   "source": [
    "   б)\n",
    "    \n",
    "$$\\begin{vmatrix}\n",
    "4 & 2 & 3\\\\ \n",
    "0 & 5 & 1\\\\ \n",
    "0 & 0 & 9\n",
    "\\end{vmatrix};$$"
   ]
  },
  {
   "cell_type": "code",
   "execution_count": 39,
   "metadata": {},
   "outputs": [
    {
     "name": "stdout",
     "output_type": "stream",
     "text": [
      "180.0\n"
     ]
    }
   ],
   "source": [
    "A = np.array([[4, 2, 3], [0, 5, 1], [0, 0, 9]])\n",
    "print(np.linalg.det(A))"
   ]
  },
  {
   "cell_type": "markdown",
   "metadata": {},
   "source": [
    "   в)\n",
    "\n",
    "$$\\begin{vmatrix}\n",
    "1 & 2 & 3\\\\ \n",
    "4 & 5 & 6\\\\ \n",
    "7 & 8 & 9\n",
    "\\end{vmatrix}.$$"
   ]
  },
  {
   "cell_type": "code",
   "execution_count": 44,
   "metadata": {},
   "outputs": [
    {
     "name": "stdout",
     "output_type": "stream",
     "text": [
      "Определитель:\n",
      "-0\n"
     ]
    }
   ],
   "source": [
    "A = np.array([[1, 2, 3], [4, 5, 6], [7, 8, 9]])\n",
    "print(f'Определитель:\\n{np.linalg.det(A):.0f}')"
   ]
  },
  {
   "cell_type": "markdown",
   "metadata": {},
   "source": [
    "определитель такой матрицы равен 0 т.к если из второй и третьей строки вычесть первую то вторая и третья строки будет линейно зависимыми"
   ]
  },
  {
   "cell_type": "markdown",
   "metadata": {},
   "source": [
    "__6.__  Доказать, что матрица\n",
    "\n",
    "$$\\begin{pmatrix}\n",
    "-2 & 7 & -3\\\\ \n",
    "4 & -14 & 6\\\\ \n",
    "-3 & 7 & 13\n",
    "\\end{pmatrix}$$\n",
    "   \n",
    "вырожденная."
   ]
  },
  {
   "cell_type": "code",
   "execution_count": 46,
   "metadata": {},
   "outputs": [
    {
     "name": "stdout",
     "output_type": "stream",
     "text": [
      "0.0\n"
     ]
    }
   ],
   "source": [
    "A = np.array([[-2, 7, -3], [4, -14, 6], [-3, 7, 13]])\n",
    "print(np.linalg.det(A))"
   ]
  },
  {
   "cell_type": "markdown",
   "metadata": {},
   "source": [
    "__7.__ Найти ранг матрицы:\n",
    "\n",
    "   а) $\\begin{pmatrix}\n",
    "1 & 2 & 3\\\\ \n",
    "1 & 1 & 1\\\\ \n",
    "2 & 3 & 4\n",
    "\\end{pmatrix};$"
   ]
  },
  {
   "cell_type": "code",
   "execution_count": 47,
   "metadata": {},
   "outputs": [
    {
     "name": "stdout",
     "output_type": "stream",
     "text": [
      "2\n"
     ]
    }
   ],
   "source": [
    "A = np.array([[1, 2, 3], [1, 1, 1], [2, 3, 4]])\n",
    "print(np.linalg.matrix_rank(A))"
   ]
  }
 ],
 "metadata": {
  "colab": {
   "collapsed_sections": [],
   "name": "Lesson_3-REVISED.ipynb",
   "provenance": [],
   "version": "0.3.2"
  },
  "kernelspec": {
   "display_name": "Python 3",
   "language": "python",
   "name": "python3"
  },
  "language_info": {
   "codemirror_mode": {
    "name": "ipython",
    "version": 3
   },
   "file_extension": ".py",
   "mimetype": "text/x-python",
   "name": "python",
   "nbconvert_exporter": "python",
   "pygments_lexer": "ipython3",
   "version": "3.7.4"
  }
 },
 "nbformat": 4,
 "nbformat_minor": 1
}
