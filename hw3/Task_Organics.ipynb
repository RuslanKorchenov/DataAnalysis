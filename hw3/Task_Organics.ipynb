{
 "cells": [
  {
   "cell_type": "code",
   "execution_count": 2,
   "metadata": {},
   "outputs": [],
   "source": [
    "import numpy as np\n",
    "import pandas as pd\n",
    "import pylab as pl\n",
    "import matplotlib.pyplot as plt\n",
    "plt.style.use('ggplot')\n",
    "%matplotlib inline\n",
    "import seaborn as sns\n",
    "import pydot\n",
    "\n",
    "import subprocess\n",
    "from sklearn.tree import DecisionTreeClassifier\n",
    "from sklearn.model_selection import train_test_split\n",
    "from sklearn.tree import export_graphviz"
   ]
  },
  {
   "cell_type": "code",
   "execution_count": 48,
   "metadata": {},
   "outputs": [
    {
     "name": "stdout",
     "output_type": "stream",
     "text": [
      "(22223, 13)\n",
      "<class 'pandas.core.frame.DataFrame'>\n",
      "RangeIndex: 22223 entries, 0 to 22222\n",
      "Data columns (total 13 columns):\n",
      "ID                 22223 non-null int64\n",
      "DemAffl            21138 non-null float64\n",
      "DemAge             20715 non-null float64\n",
      "DemCluster         21549 non-null float64\n",
      "DemClusterGroup    21549 non-null object\n",
      "DemGender          19711 non-null object\n",
      "DemReg             21758 non-null object\n",
      "DemTVReg           21758 non-null object\n",
      "PromClass          22223 non-null object\n",
      "PromSpend          22223 non-null float64\n",
      "PromTime           21942 non-null float64\n",
      "TargetBuy          22223 non-null int64\n",
      "TargetAmt          22223 non-null int64\n",
      "dtypes: float64(5), int64(3), object(5)\n",
      "memory usage: 2.2+ MB\n",
      "None\n"
     ]
    }
   ],
   "source": [
    "data=pd.read_csv(\"datasets/ORGANICS.csv\",encoding=\"cp1251\")\n",
    "print(data.shape) \n",
    "print(data.info())"
   ]
  },
  {
   "cell_type": "code",
   "execution_count": 49,
   "metadata": {},
   "outputs": [
    {
     "name": "stdout",
     "output_type": "stream",
     "text": [
      "<bound method DataFrame.info of              ID  DemAffl  DemAge  DemCluster DemClusterGroup DemGender  \\\n",
      "0           140     10.0    76.0        16.0               C         U   \n",
      "1           620      4.0    49.0        35.0               D         U   \n",
      "2           868      5.0    70.0        27.0               D         F   \n",
      "3          1120     10.0    65.0        51.0               F         M   \n",
      "4          2313     11.0    68.0         4.0               A         F   \n",
      "...         ...      ...     ...         ...             ...       ...   \n",
      "22216  52830893     13.0    49.0         8.0               B         M   \n",
      "22218  52834058     13.0    65.0         9.0               B         F   \n",
      "22219  52834376     15.0    73.0        34.0               D         U   \n",
      "22220  52837057      9.0    70.0        15.0               B         F   \n",
      "22221  52838096     11.0    66.0         8.0               B         F   \n",
      "\n",
      "           DemReg      DemTVReg PromClass  PromSpend  PromTime  TargetBuy  \\\n",
      "0        Midlands  Wales & West      Gold   16000.00       4.0          0   \n",
      "1        Midlands  Wales & West      Gold    6000.00       5.0          0   \n",
      "2        Midlands  Wales & West    Silver       0.02       8.0          1   \n",
      "3        Midlands      Midlands       Tin       0.01       7.0          1   \n",
      "4        Midlands      Midlands       Tin       0.01       8.0          0   \n",
      "...           ...           ...       ...        ...       ...        ...   \n",
      "22216  South East        London    Silver     500.00       9.0          0   \n",
      "22218  South East        London    Silver    1500.00       5.0          0   \n",
      "22219  South East    S & S East      Gold    6053.06      12.0          0   \n",
      "22220       North     Yorkshire      Gold    6000.00       5.0          0   \n",
      "22221       North        N West    Silver    5000.00       5.0          0   \n",
      "\n",
      "       TargetAmt  \n",
      "0              0  \n",
      "1              0  \n",
      "2              1  \n",
      "3              1  \n",
      "4              0  \n",
      "...          ...  \n",
      "22216          0  \n",
      "22218          0  \n",
      "22219          0  \n",
      "22220          0  \n",
      "22221          0  \n",
      "\n",
      "[16408 rows x 13 columns]>\n"
     ]
    }
   ],
   "source": [
    "data = data.dropna()\n",
    "print(data.info)"
   ]
  },
  {
   "cell_type": "code",
   "execution_count": 50,
   "metadata": {},
   "outputs": [
    {
     "data": {
      "text/html": [
       "<div>\n",
       "<style scoped>\n",
       "    .dataframe tbody tr th:only-of-type {\n",
       "        vertical-align: middle;\n",
       "    }\n",
       "\n",
       "    .dataframe tbody tr th {\n",
       "        vertical-align: top;\n",
       "    }\n",
       "\n",
       "    .dataframe thead th {\n",
       "        text-align: right;\n",
       "    }\n",
       "</style>\n",
       "<table border=\"1\" class=\"dataframe\">\n",
       "  <thead>\n",
       "    <tr style=\"text-align: right;\">\n",
       "      <th></th>\n",
       "      <th>ID</th>\n",
       "      <th>DemAffl</th>\n",
       "      <th>DemAge</th>\n",
       "      <th>DemCluster</th>\n",
       "      <th>DemClusterGroup</th>\n",
       "      <th>DemGender</th>\n",
       "      <th>DemReg</th>\n",
       "      <th>DemTVReg</th>\n",
       "      <th>PromClass</th>\n",
       "      <th>PromSpend</th>\n",
       "      <th>PromTime</th>\n",
       "      <th>TargetBuy</th>\n",
       "      <th>TargetAmt</th>\n",
       "    </tr>\n",
       "  </thead>\n",
       "  <tbody>\n",
       "    <tr>\n",
       "      <td>0</td>\n",
       "      <td>140</td>\n",
       "      <td>10.0</td>\n",
       "      <td>76.0</td>\n",
       "      <td>16.0</td>\n",
       "      <td>C</td>\n",
       "      <td>U</td>\n",
       "      <td>Midlands</td>\n",
       "      <td>Wales &amp; West</td>\n",
       "      <td>Gold</td>\n",
       "      <td>16000.00</td>\n",
       "      <td>4.0</td>\n",
       "      <td>0</td>\n",
       "      <td>0</td>\n",
       "    </tr>\n",
       "    <tr>\n",
       "      <td>1</td>\n",
       "      <td>620</td>\n",
       "      <td>4.0</td>\n",
       "      <td>49.0</td>\n",
       "      <td>35.0</td>\n",
       "      <td>D</td>\n",
       "      <td>U</td>\n",
       "      <td>Midlands</td>\n",
       "      <td>Wales &amp; West</td>\n",
       "      <td>Gold</td>\n",
       "      <td>6000.00</td>\n",
       "      <td>5.0</td>\n",
       "      <td>0</td>\n",
       "      <td>0</td>\n",
       "    </tr>\n",
       "    <tr>\n",
       "      <td>2</td>\n",
       "      <td>868</td>\n",
       "      <td>5.0</td>\n",
       "      <td>70.0</td>\n",
       "      <td>27.0</td>\n",
       "      <td>D</td>\n",
       "      <td>F</td>\n",
       "      <td>Midlands</td>\n",
       "      <td>Wales &amp; West</td>\n",
       "      <td>Silver</td>\n",
       "      <td>0.02</td>\n",
       "      <td>8.0</td>\n",
       "      <td>1</td>\n",
       "      <td>1</td>\n",
       "    </tr>\n",
       "    <tr>\n",
       "      <td>3</td>\n",
       "      <td>1120</td>\n",
       "      <td>10.0</td>\n",
       "      <td>65.0</td>\n",
       "      <td>51.0</td>\n",
       "      <td>F</td>\n",
       "      <td>M</td>\n",
       "      <td>Midlands</td>\n",
       "      <td>Midlands</td>\n",
       "      <td>Tin</td>\n",
       "      <td>0.01</td>\n",
       "      <td>7.0</td>\n",
       "      <td>1</td>\n",
       "      <td>1</td>\n",
       "    </tr>\n",
       "    <tr>\n",
       "      <td>4</td>\n",
       "      <td>2313</td>\n",
       "      <td>11.0</td>\n",
       "      <td>68.0</td>\n",
       "      <td>4.0</td>\n",
       "      <td>A</td>\n",
       "      <td>F</td>\n",
       "      <td>Midlands</td>\n",
       "      <td>Midlands</td>\n",
       "      <td>Tin</td>\n",
       "      <td>0.01</td>\n",
       "      <td>8.0</td>\n",
       "      <td>0</td>\n",
       "      <td>0</td>\n",
       "    </tr>\n",
       "  </tbody>\n",
       "</table>\n",
       "</div>"
      ],
      "text/plain": [
       "     ID  DemAffl  DemAge  DemCluster DemClusterGroup DemGender    DemReg  \\\n",
       "0   140     10.0    76.0        16.0               C         U  Midlands   \n",
       "1   620      4.0    49.0        35.0               D         U  Midlands   \n",
       "2   868      5.0    70.0        27.0               D         F  Midlands   \n",
       "3  1120     10.0    65.0        51.0               F         M  Midlands   \n",
       "4  2313     11.0    68.0         4.0               A         F  Midlands   \n",
       "\n",
       "       DemTVReg PromClass  PromSpend  PromTime  TargetBuy  TargetAmt  \n",
       "0  Wales & West      Gold   16000.00       4.0          0          0  \n",
       "1  Wales & West      Gold    6000.00       5.0          0          0  \n",
       "2  Wales & West    Silver       0.02       8.0          1          1  \n",
       "3      Midlands       Tin       0.01       7.0          1          1  \n",
       "4      Midlands       Tin       0.01       8.0          0          0  "
      ]
     },
     "execution_count": 50,
     "metadata": {},
     "output_type": "execute_result"
    }
   ],
   "source": [
    "data.head()"
   ]
  },
  {
   "cell_type": "code",
   "execution_count": 51,
   "metadata": {},
   "outputs": [],
   "source": [
    "x=data[['DemAffl',  'DemAge', 'DemCluster', 'PromSpend', 'PromTime']]\n",
    "y=data.values[::,11]\n",
    "y=y.astype('int')"
   ]
  },
  {
   "cell_type": "code",
   "execution_count": 52,
   "metadata": {},
   "outputs": [],
   "source": [
    "X_train, X_test, y_train, y_test = train_test_split(x, y, test_size=0.3)"
   ]
  },
  {
   "cell_type": "code",
   "execution_count": 53,
   "metadata": {},
   "outputs": [
    {
     "data": {
      "text/plain": [
       "DecisionTreeClassifier(class_weight=None, criterion='gini', max_depth=4,\n",
       "                       max_features=None, max_leaf_nodes=None,\n",
       "                       min_impurity_decrease=0.0, min_impurity_split=None,\n",
       "                       min_samples_leaf=1, min_samples_split=2,\n",
       "                       min_weight_fraction_leaf=0.0, presort=False,\n",
       "                       random_state=0, splitter='best')"
      ]
     },
     "execution_count": 53,
     "metadata": {},
     "output_type": "execute_result"
    }
   ],
   "source": [
    "tree=DecisionTreeClassifier(max_depth=4, random_state=0)\n",
    "tree.fit(X_train, y_train)"
   ]
  },
  {
   "cell_type": "code",
   "execution_count": 54,
   "metadata": {},
   "outputs": [
    {
     "name": "stdout",
     "output_type": "stream",
     "text": [
      "0.8031345232912495\n",
      "0.7885435709932967\n"
     ]
    }
   ],
   "source": [
    "print(tree.score(X_train, y_train)) \n",
    "print(tree.score(X_test, y_test))"
   ]
  },
  {
   "cell_type": "code",
   "execution_count": 55,
   "metadata": {},
   "outputs": [],
   "source": [
    "import pydot\n",
    "export_graphviz(tree, out_file='dots/tree.dot', \n",
    "               rounded = True, proportion = False, \n",
    "                precision = 2, filled = True)\n",
    "\n",
    "(graph, ) = pydot.graph_from_dot_file('dots/tree.dot')\n",
    "\n",
    "graph.write_png('img/tree.png')"
   ]
  },
  {
   "cell_type": "markdown",
   "metadata": {},
   "source": [
    "## dz1"
   ]
  },
  {
   "cell_type": "code",
   "execution_count": 56,
   "metadata": {},
   "outputs": [
    {
     "name": "stdout",
     "output_type": "stream",
     "text": [
      "0.8060078363082281\n",
      "0.7899654682104408\n"
     ]
    }
   ],
   "source": [
    "etree=DecisionTreeClassifier(max_depth=5, criterion='entropy')\n",
    "etree.fit(X_train, y_train)\n",
    "\n",
    "print(etree.score(X_train, y_train)) \n",
    "print(etree.score(X_test,y_test))"
   ]
  },
  {
   "cell_type": "code",
   "execution_count": 57,
   "metadata": {},
   "outputs": [],
   "source": [
    "export_graphviz(tree, out_file='dots/etree.dot', \n",
    "               rounded = True, proportion = False, \n",
    "                precision = 2, filled = True)\n",
    "\n",
    "(graph, ) = pydot.graph_from_dot_file('dots/etree.dot')\n",
    "\n",
    "graph.write_png('img/etree.png')"
   ]
  },
  {
   "cell_type": "code",
   "execution_count": 58,
   "metadata": {},
   "outputs": [
    {
     "data": {
      "text/html": [
       "<div>\n",
       "<style scoped>\n",
       "    .dataframe tbody tr th:only-of-type {\n",
       "        vertical-align: middle;\n",
       "    }\n",
       "\n",
       "    .dataframe tbody tr th {\n",
       "        vertical-align: top;\n",
       "    }\n",
       "\n",
       "    .dataframe thead th {\n",
       "        text-align: right;\n",
       "    }\n",
       "</style>\n",
       "<table border=\"1\" class=\"dataframe\">\n",
       "  <thead>\n",
       "    <tr style=\"text-align: right;\">\n",
       "      <th></th>\n",
       "      <th>1</th>\n",
       "      <th>2</th>\n",
       "      <th>3</th>\n",
       "      <th>4</th>\n",
       "      <th>5</th>\n",
       "    </tr>\n",
       "  </thead>\n",
       "  <tbody>\n",
       "    <tr>\n",
       "      <td>1</td>\n",
       "      <td>0.764301</td>\n",
       "      <td>0.764301</td>\n",
       "      <td>0.764301</td>\n",
       "      <td>0.764301</td>\n",
       "      <td>0.764301</td>\n",
       "    </tr>\n",
       "    <tr>\n",
       "      <td>2</td>\n",
       "      <td>0.793296</td>\n",
       "      <td>0.793296</td>\n",
       "      <td>0.793296</td>\n",
       "      <td>0.793296</td>\n",
       "      <td>0.793296</td>\n",
       "    </tr>\n",
       "    <tr>\n",
       "      <td>3</td>\n",
       "      <td>0.794515</td>\n",
       "      <td>0.794515</td>\n",
       "      <td>0.794515</td>\n",
       "      <td>0.794515</td>\n",
       "      <td>0.794515</td>\n",
       "    </tr>\n",
       "    <tr>\n",
       "      <td>4</td>\n",
       "      <td>0.803135</td>\n",
       "      <td>0.803135</td>\n",
       "      <td>0.803135</td>\n",
       "      <td>0.803135</td>\n",
       "      <td>0.803135</td>\n",
       "    </tr>\n",
       "    <tr>\n",
       "      <td>5</td>\n",
       "      <td>0.806791</td>\n",
       "      <td>0.806791</td>\n",
       "      <td>0.806791</td>\n",
       "      <td>0.806791</td>\n",
       "      <td>0.806791</td>\n",
       "    </tr>\n",
       "  </tbody>\n",
       "</table>\n",
       "</div>"
      ],
      "text/plain": [
       "          1         2         3         4         5\n",
       "1  0.764301  0.764301  0.764301  0.764301  0.764301\n",
       "2  0.793296  0.793296  0.793296  0.793296  0.793296\n",
       "3  0.794515  0.794515  0.794515  0.794515  0.794515\n",
       "4  0.803135  0.803135  0.803135  0.803135  0.803135\n",
       "5  0.806791  0.806791  0.806791  0.806791  0.806791"
      ]
     },
     "execution_count": 58,
     "metadata": {},
     "output_type": "execute_result"
    }
   ],
   "source": [
    "datanp = np.zeros((5,5),dtype=float)\n",
    "for i in range(1,6):\n",
    "    for j in range(1,6):\n",
    "        tree=DecisionTreeClassifier(max_depth=i, min_samples_leaf=j)\n",
    "        tree.fit(X_train, y_train)\n",
    "        datanp[i-1,j-1]=tree.score(X_train, y_train)\n",
    "df = pd.DataFrame(data=datanp, index = list('12345'), \n",
    "                  columns=list('12345'))\n",
    "df"
   ]
  }
 ],
 "metadata": {
  "kernelspec": {
   "display_name": "Python 3",
   "language": "python",
   "name": "python3"
  },
  "language_info": {
   "codemirror_mode": {
    "name": "ipython",
    "version": 3
   },
   "file_extension": ".py",
   "mimetype": "text/x-python",
   "name": "python",
   "nbconvert_exporter": "python",
   "pygments_lexer": "ipython3",
   "version": "3.7.4"
  }
 },
 "nbformat": 4,
 "nbformat_minor": 2
}
